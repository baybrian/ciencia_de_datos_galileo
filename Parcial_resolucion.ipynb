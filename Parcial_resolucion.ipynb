{
 "cells": [
  {
   "cell_type": "code",
   "execution_count": 73,
   "metadata": {},
   "outputs": [],
   "source": [
    "def crearCodigo():\n",
    "    import random\n",
    "    letras = ['A','B','C','D','E','F','G','H','I','J','K','L','M','N','O','P','Q','R','S','T','U','V','W','K','Y','Z']\n",
    "    numeros = ['0','1','2','3','4','5','6','7','8','9']\n",
    "    Codigo = ''\n",
    "    for i in range(0, 7):\n",
    "        alletra = random.randint(0, len(letras)-1)\n",
    "        alnum = random.randint(0, len(numeros)-1)\n",
    "        Codigo = Codigo + letras[alletra]\n",
    "        Codigo = Codigo + numeros[alnum]\n",
    "    return Codigo\n",
    "    print(Codigo)"
   ]
  },
  {
   "cell_type": "code",
   "execution_count": 74,
   "metadata": {},
   "outputs": [],
   "source": [
    "def sumaCod(codigo):\n",
    "    try:\n",
    "        codnum = []\n",
    "        codnum.extend(codigo)\n",
    "        codnum = codnum[1:15:2]\n",
    "        codnum = [int(i) for i in codnum]\n",
    "        sumaC = sum(codnum)\n",
    "        return sumaC\n",
    "    except ValueError:\n",
    "        sumaC = 0"
   ]
  },
  {
   "cell_type": "code",
   "execution_count": 94,
   "metadata": {},
   "outputs": [],
   "source": [
    "def main():\n",
    "    print(\"Presione Enter para un nuevo código o ingrese 'exit' para salir\")\n",
    "    print(\"----------------------------------------------\")\n",
    "    bandera = False\n",
    "    validos = {}\n",
    "    invalidos = []\n",
    "    while(bandera != True):\n",
    "        continuar = input(\"Crear siguiente codigo?: \")\n",
    "        if (continuar == \"\"):\n",
    "            codNuevo = crearCodigo()\n",
    "            print(codNuevo)\n",
    "            print(\" \")\n",
    "            if(sumaCod(codNuevo) > 30):\n",
    "                validos[sumaCod(codNuevo)] = codNuevo\n",
    "            else:\n",
    "                invalidos.append(codNuevo)\n",
    "        elif(continuar.lower() == \"exit\"):\n",
    "            bandera = True\n",
    "            print(\" \")\n",
    "            print(\"Los codigos validos generados son:\")\n",
    "            print(validos)\n",
    "            print(\"------------------------------------\")\n",
    "            print(\"Los codigos invalidos generados son:\")\n",
    "            print(invalidos)\n",
    "        else:\n",
    "            print(\"Instruccion Invalida, presione Enter para un nuevo código o ingrese 'exit' para salir\")"
   ]
  },
  {
   "cell_type": "code",
   "execution_count": 96,
   "metadata": {},
   "outputs": [
    {
     "name": "stdout",
     "output_type": "stream",
     "text": [
      "Presione Enter para un nuevo código o ingrese 'exit' para salir\n",
      "----------------------------------------------\n"
     ]
    },
    {
     "name": "stdin",
     "output_type": "stream",
     "text": [
      "Crear siguiente codigo?:  \n"
     ]
    },
    {
     "name": "stdout",
     "output_type": "stream",
     "text": [
      "R4K2P4K9Q9I5L3\n",
      " \n"
     ]
    },
    {
     "name": "stdin",
     "output_type": "stream",
     "text": [
      "Crear siguiente codigo?:  \n"
     ]
    },
    {
     "name": "stdout",
     "output_type": "stream",
     "text": [
      "O7E1O2N9Z8I1D3\n",
      " \n"
     ]
    },
    {
     "name": "stdin",
     "output_type": "stream",
     "text": [
      "Crear siguiente codigo?:  \n"
     ]
    },
    {
     "name": "stdout",
     "output_type": "stream",
     "text": [
      "E7M4V4A6W2P5V5\n",
      " \n"
     ]
    },
    {
     "name": "stdin",
     "output_type": "stream",
     "text": [
      "Crear siguiente codigo?:  hola\n"
     ]
    },
    {
     "name": "stdout",
     "output_type": "stream",
     "text": [
      "Instruccion Invalida, presione Enter para un nuevo código o ingrese 'exit' para salir\n"
     ]
    },
    {
     "name": "stdin",
     "output_type": "stream",
     "text": [
      "Crear siguiente codigo?:  \n"
     ]
    },
    {
     "name": "stdout",
     "output_type": "stream",
     "text": [
      "T3H8J0Z4Y4Q2F3\n",
      " \n"
     ]
    },
    {
     "name": "stdin",
     "output_type": "stream",
     "text": [
      "Crear siguiente codigo?:  \n"
     ]
    },
    {
     "name": "stdout",
     "output_type": "stream",
     "text": [
      "E2N0S0O1B0E7N2\n",
      " \n"
     ]
    },
    {
     "name": "stdin",
     "output_type": "stream",
     "text": [
      "Crear siguiente codigo?:  \n"
     ]
    },
    {
     "name": "stdout",
     "output_type": "stream",
     "text": [
      "G3P2L4Z4Q3G4V3\n",
      " \n"
     ]
    },
    {
     "name": "stdin",
     "output_type": "stream",
     "text": [
      "Crear siguiente codigo?:  eXIT\n"
     ]
    },
    {
     "name": "stdout",
     "output_type": "stream",
     "text": [
      " \n",
      "Los codigos validos generados son:\n",
      "{36: 'R4K2P4K9Q9I5L3', 31: 'O7E1O2N9Z8I1D3', 33: 'E7M4V4A6W2P5V5'}\n",
      "------------------------------------\n",
      "Los codigos invalidos generados son:\n",
      "['T3H8J0Z4Y4Q2F3', 'E2N0S0O1B0E7N2', 'G3P2L4Z4Q3G4V3']\n"
     ]
    }
   ],
   "source": [
    "main()"
   ]
  }
 ],
 "metadata": {
  "kernelspec": {
   "display_name": "Python 3",
   "language": "python",
   "name": "python3"
  },
  "language_info": {
   "codemirror_mode": {
    "name": "ipython",
    "version": 3
   },
   "file_extension": ".py",
   "mimetype": "text/x-python",
   "name": "python",
   "nbconvert_exporter": "python",
   "pygments_lexer": "ipython3",
   "version": "3.8.5"
  }
 },
 "nbformat": 4,
 "nbformat_minor": 4
}
