{
 "cells": [
  {
   "cell_type": "markdown",
   "metadata": {},
   "source": [
    "# Ciencia de Datos en Python\n",
    "## Laboratorio 3\n",
    "### Julio César Rodas - 15002024\n",
    "### Hugo Brian Bay - 20002544\n",
    "### "
   ]
  },
  {
   "cell_type": "markdown",
   "metadata": {},
   "source": [
    "**Parte #1 - (Programación y Sintaxis)**"
   ]
  },
  {
   "cell_type": "markdown",
   "metadata": {},
   "source": [
    "##### Ejercicio 1"
   ]
  },
  {
   "cell_type": "code",
   "execution_count": 92,
   "metadata": {},
   "outputs": [
    {
     "name": "stdin",
     "output_type": "stream",
     "text": [
      "Ingrese los segundos:  45875\n"
     ]
    },
    {
     "name": "stdout",
     "output_type": "stream",
     "text": [
      "Días: 0 Horas:  12 Minutos: 44 Segundos: 44\n"
     ]
    }
   ],
   "source": [
    "try: \n",
    "    seg = int(input('Ingrese los segundos: '))\n",
    "    dias = seg//(24*60*60)\n",
    "    seg = seg % (24*60*60)\n",
    "    horas = seg //(60*60)\n",
    "    seg = seg % (60*60)\n",
    "    minutos = seg // 60\n",
    "    seg = seg // 60\n",
    "    \n",
    "    print('Días: ' + str(dias) + ' ' + 'Horas: ' + ' ' + str(horas) +  ' ' + 'Minutos: ' + str(minutos) + ' '  + 'Segundos: ' + str(seg))\n",
    "except(ValueError):\n",
    "    print(\"Entrada Invalida\")"
   ]
  },
  {
   "cell_type": "markdown",
   "metadata": {},
   "source": [
    "##### Ejercicio 2"
   ]
  },
  {
   "cell_type": "code",
   "execution_count": 93,
   "metadata": {},
   "outputs": [
    {
     "name": "stdin",
     "output_type": "stream",
     "text": [
      "Introduzca la cantidad:  20\n",
      "Ingrese el simbolo:  +\n"
     ]
    },
    {
     "name": "stdout",
     "output_type": "stream",
     "text": [
      "+                    ++++++++++++++++++++                    +                    ++++++++++++++++++++\n",
      "++                    +++++++++++++++++++                    ++                    +++++++++++++++++++\n",
      "+++                    ++++++++++++++++++                    +++                    ++++++++++++++++++\n",
      "++++                    +++++++++++++++++                    ++++                    +++++++++++++++++\n",
      "+++++                    ++++++++++++++++                    +++++                    ++++++++++++++++\n",
      "++++++                    +++++++++++++++                    ++++++                    +++++++++++++++\n",
      "+++++++                    ++++++++++++++                    +++++++                    ++++++++++++++\n",
      "++++++++                    +++++++++++++                    ++++++++                    +++++++++++++\n",
      "+++++++++                    ++++++++++++                    +++++++++                    ++++++++++++\n",
      "++++++++++                    +++++++++++                    ++++++++++                    +++++++++++\n",
      "+++++++++++                    ++++++++++                    +++++++++++                    ++++++++++\n",
      "++++++++++++                    +++++++++                    ++++++++++++                    +++++++++\n",
      "+++++++++++++                    ++++++++                    +++++++++++++                    ++++++++\n",
      "++++++++++++++                    +++++++                    ++++++++++++++                    +++++++\n",
      "+++++++++++++++                    ++++++                    +++++++++++++++                    ++++++\n",
      "++++++++++++++++                    +++++                    ++++++++++++++++                    +++++\n",
      "+++++++++++++++++                    ++++                    +++++++++++++++++                    ++++\n",
      "++++++++++++++++++                    +++                    ++++++++++++++++++                    +++\n",
      "+++++++++++++++++++                    ++                    +++++++++++++++++++                    ++\n",
      "++++++++++++++++++++                    +                    ++++++++++++++++++++                    +\n"
     ]
    }
   ],
   "source": [
    "num = int(input('Introduzca la cantidad: '))\n",
    "sign = input('Ingrese el simbolo: ')\n",
    "for i in range(1, num+1, 1):\n",
    "    print(sign*i, sign*(num+1-i), sign*i, sign*(num+1-i), sep=' '*num)"
   ]
  },
  {
   "cell_type": "markdown",
   "metadata": {},
   "source": [
    "##### Ejercicio 3"
   ]
  },
  {
   "cell_type": "code",
   "execution_count": 94,
   "metadata": {},
   "outputs": [
    {
     "name": "stdin",
     "output_type": "stream",
     "text": [
      "Día de nacimiento:  18\n",
      "Mes de nacimiento:  06\n",
      "Año de nacimiento:  1990\n"
     ]
    },
    {
     "name": "stdout",
     "output_type": "stream",
     "text": [
      "Tu edad es de: 30 anios,8 meses,24 día(s)\n"
     ]
    }
   ],
   "source": [
    "import datetime\n",
    "try: \n",
    "    dia = int(input('Día de nacimiento: '))\n",
    "    mes = int(input('Mes de nacimiento: '))\n",
    "    anio = int(input('Año de nacimiento: '))\n",
    "    fecha_de_nacimiento = datetime.datetime(anio, mes, dia)\n",
    "    fecha_de_hoy = datetime.datetime.now()\n",
    "    diferencia = fecha_de_hoy - fecha_de_nacimiento\n",
    "    dias_vividos = diferencia.days\n",
    "    anios, dias_vividos = divmod(dias_vividos,365)\n",
    "    meses, dias_vividos = divmod(dias_vividos, 30)\n",
    "\n",
    "    print('Tu edad es de: {} anios,{} meses,{} día(s)'.format(anios,meses,dias_vividos))\n",
    "except(ValueError):\n",
    "    print(\"Fecha Invalida\")"
   ]
  },
  {
   "cell_type": "markdown",
   "metadata": {},
   "source": [
    "  "
   ]
  },
  {
   "cell_type": "markdown",
   "metadata": {},
   "source": [
    "**Parte #2 - (Estructuras de Datos)**"
   ]
  },
  {
   "cell_type": "markdown",
   "metadata": {},
   "source": [
    "##### Ejercicio 1"
   ]
  },
  {
   "cell_type": "code",
   "execution_count": 18,
   "metadata": {},
   "outputs": [],
   "source": [
    "tupla1 = (10,20,40,5,70)\n",
    "def PasarString(a):\n",
    "    Salida = ''\n",
    "    for i in a:\n",
    "        Salida = Salida + str(i)\n",
    "    print(Salida)"
   ]
  },
  {
   "cell_type": "code",
   "execution_count": 88,
   "metadata": {},
   "outputs": [
    {
     "name": "stdout",
     "output_type": "stream",
     "text": [
      "102040570\n"
     ]
    }
   ],
   "source": [
    "s = PasarString(tupla1)\n",
    "s"
   ]
  },
  {
   "cell_type": "markdown",
   "metadata": {},
   "source": [
    "##### Ejercicio 2"
   ]
  },
  {
   "cell_type": "code",
   "execution_count": 63,
   "metadata": {},
   "outputs": [],
   "source": [
    "lista = [(),('X'),('a','b'),(),('a','b','c'),('d')]\n",
    "def QuitarVacios(x):\n",
    "    countVacios = x.count(())\n",
    "    for i in range(0, countVacios, 1):\n",
    "        x.remove(())"
   ]
  },
  {
   "cell_type": "code",
   "execution_count": 64,
   "metadata": {},
   "outputs": [
    {
     "data": {
      "text/plain": [
       "['X', ('a', 'b'), ('a', 'b', 'c'), 'd']"
      ]
     },
     "execution_count": 64,
     "metadata": {},
     "output_type": "execute_result"
    }
   ],
   "source": [
    "QuitarVacios(lista)\n",
    "lista"
   ]
  },
  {
   "cell_type": "markdown",
   "metadata": {},
   "source": [
    "##### Ejercicio 3"
   ]
  },
  {
   "cell_type": "code",
   "execution_count": 84,
   "metadata": {},
   "outputs": [],
   "source": [
    "tupla2 = ((10,10,10,12),(30,45,56,45),(81,80,39,32))\n",
    "def PromedioTupla(t):\n",
    "    tuplaPromedio = tuple(round(sum(a)/len(a), 1) for a in t)\n",
    "    return tuplaPromedio"
   ]
  },
  {
   "cell_type": "code",
   "execution_count": 85,
   "metadata": {},
   "outputs": [
    {
     "data": {
      "text/plain": [
       "(10.5, 44.0, 58.0)"
      ]
     },
     "execution_count": 85,
     "metadata": {},
     "output_type": "execute_result"
    }
   ],
   "source": [
    "PromedioTupla(tupla2)"
   ]
  },
  {
   "cell_type": "code",
   "execution_count": 87,
   "metadata": {},
   "outputs": [
    {
     "data": {
      "text/plain": [
       "(13.3, 13.0, 19.0)"
      ]
     },
     "execution_count": 87,
     "metadata": {},
     "output_type": "execute_result"
    }
   ],
   "source": [
    "tupla3 = ((15,12,13),(20,15,8,9),(10,28))\n",
    "ej = PromedioTupla(tupla3)\n",
    "ej"
   ]
  }
 ],
 "metadata": {
  "kernelspec": {
   "display_name": "Python 3",
   "language": "python",
   "name": "python3"
  },
  "language_info": {
   "codemirror_mode": {
    "name": "ipython",
    "version": 3
   },
   "file_extension": ".py",
   "mimetype": "text/x-python",
   "name": "python",
   "nbconvert_exporter": "python",
   "pygments_lexer": "ipython3",
   "version": "3.8.5"
  }
 },
 "nbformat": 4,
 "nbformat_minor": 4
}
