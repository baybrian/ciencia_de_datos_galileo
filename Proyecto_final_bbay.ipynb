{
 "cells": [
  {
   "cell_type": "code",
   "execution_count": 1,
   "metadata": {},
   "outputs": [],
   "source": [
    "import numpy as np\n",
    "import pandas as pd\n",
    "import matplotlib.pyplot as plt\n",
    "import seaborn as sns"
   ]
  },
  {
   "cell_type": "markdown",
   "metadata": {},
   "source": [
    "## Carga de la data"
   ]
  },
  {
   "cell_type": "code",
   "execution_count": 4,
   "metadata": {},
   "outputs": [
    {
     "data": {
      "text/html": [
       "<div>\n",
       "<style scoped>\n",
       "    .dataframe tbody tr th:only-of-type {\n",
       "        vertical-align: middle;\n",
       "    }\n",
       "\n",
       "    .dataframe tbody tr th {\n",
       "        vertical-align: top;\n",
       "    }\n",
       "\n",
       "    .dataframe thead th {\n",
       "        text-align: right;\n",
       "    }\n",
       "</style>\n",
       "<table border=\"1\" class=\"dataframe\">\n",
       "  <thead>\n",
       "    <tr style=\"text-align: right;\">\n",
       "      <th></th>\n",
       "      <th>SalePrice</th>\n",
       "      <th>OverallQual</th>\n",
       "      <th>1stFlrSF</th>\n",
       "      <th>TotRmsAbvGrd</th>\n",
       "      <th>YearBuilt</th>\n",
       "      <th>LotFrontage</th>\n",
       "    </tr>\n",
       "  </thead>\n",
       "  <tbody>\n",
       "    <tr>\n",
       "      <th>0</th>\n",
       "      <td>208500.0</td>\n",
       "      <td>7.0</td>\n",
       "      <td>856.0</td>\n",
       "      <td>8.0</td>\n",
       "      <td>2003.0</td>\n",
       "      <td>65.0</td>\n",
       "    </tr>\n",
       "    <tr>\n",
       "      <th>1</th>\n",
       "      <td>181500.0</td>\n",
       "      <td>6.0</td>\n",
       "      <td>1262.0</td>\n",
       "      <td>6.0</td>\n",
       "      <td>1976.0</td>\n",
       "      <td>80.0</td>\n",
       "    </tr>\n",
       "    <tr>\n",
       "      <th>2</th>\n",
       "      <td>223500.0</td>\n",
       "      <td>7.0</td>\n",
       "      <td>920.0</td>\n",
       "      <td>6.0</td>\n",
       "      <td>2001.0</td>\n",
       "      <td>68.0</td>\n",
       "    </tr>\n",
       "    <tr>\n",
       "      <th>3</th>\n",
       "      <td>140000.0</td>\n",
       "      <td>7.0</td>\n",
       "      <td>961.0</td>\n",
       "      <td>7.0</td>\n",
       "      <td>1915.0</td>\n",
       "      <td>60.0</td>\n",
       "    </tr>\n",
       "    <tr>\n",
       "      <th>4</th>\n",
       "      <td>250000.0</td>\n",
       "      <td>8.0</td>\n",
       "      <td>1145.0</td>\n",
       "      <td>9.0</td>\n",
       "      <td>2000.0</td>\n",
       "      <td>84.0</td>\n",
       "    </tr>\n",
       "    <tr>\n",
       "      <th>...</th>\n",
       "      <td>...</td>\n",
       "      <td>...</td>\n",
       "      <td>...</td>\n",
       "      <td>...</td>\n",
       "      <td>...</td>\n",
       "      <td>...</td>\n",
       "    </tr>\n",
       "    <tr>\n",
       "      <th>1455</th>\n",
       "      <td>175000.0</td>\n",
       "      <td>6.0</td>\n",
       "      <td>953.0</td>\n",
       "      <td>7.0</td>\n",
       "      <td>1999.0</td>\n",
       "      <td>62.0</td>\n",
       "    </tr>\n",
       "    <tr>\n",
       "      <th>1456</th>\n",
       "      <td>210000.0</td>\n",
       "      <td>6.0</td>\n",
       "      <td>2073.0</td>\n",
       "      <td>7.0</td>\n",
       "      <td>1978.0</td>\n",
       "      <td>85.0</td>\n",
       "    </tr>\n",
       "    <tr>\n",
       "      <th>1457</th>\n",
       "      <td>266500.0</td>\n",
       "      <td>7.0</td>\n",
       "      <td>1188.0</td>\n",
       "      <td>9.0</td>\n",
       "      <td>1941.0</td>\n",
       "      <td>66.0</td>\n",
       "    </tr>\n",
       "    <tr>\n",
       "      <th>1458</th>\n",
       "      <td>142125.0</td>\n",
       "      <td>5.0</td>\n",
       "      <td>1078.0</td>\n",
       "      <td>5.0</td>\n",
       "      <td>1950.0</td>\n",
       "      <td>68.0</td>\n",
       "    </tr>\n",
       "    <tr>\n",
       "      <th>1459</th>\n",
       "      <td>147500.0</td>\n",
       "      <td>5.0</td>\n",
       "      <td>1256.0</td>\n",
       "      <td>6.0</td>\n",
       "      <td>1965.0</td>\n",
       "      <td>75.0</td>\n",
       "    </tr>\n",
       "  </tbody>\n",
       "</table>\n",
       "<p>1460 rows × 6 columns</p>\n",
       "</div>"
      ],
      "text/plain": [
       "      SalePrice  OverallQual  1stFlrSF  TotRmsAbvGrd  YearBuilt  LotFrontage\n",
       "0      208500.0          7.0     856.0           8.0     2003.0         65.0\n",
       "1      181500.0          6.0    1262.0           6.0     1976.0         80.0\n",
       "2      223500.0          7.0     920.0           6.0     2001.0         68.0\n",
       "3      140000.0          7.0     961.0           7.0     1915.0         60.0\n",
       "4      250000.0          8.0    1145.0           9.0     2000.0         84.0\n",
       "...         ...          ...       ...           ...        ...          ...\n",
       "1455   175000.0          6.0     953.0           7.0     1999.0         62.0\n",
       "1456   210000.0          6.0    2073.0           7.0     1978.0         85.0\n",
       "1457   266500.0          7.0    1188.0           9.0     1941.0         66.0\n",
       "1458   142125.0          5.0    1078.0           5.0     1950.0         68.0\n",
       "1459   147500.0          5.0    1256.0           6.0     1965.0         75.0\n",
       "\n",
       "[1460 rows x 6 columns]"
      ]
     },
     "execution_count": 4,
     "metadata": {},
     "output_type": "execute_result"
    }
   ],
   "source": [
    "data = np.load('proyecto_training_data.npy')\n",
    "dataset = pd.DataFrame(data, columns = ['SalePrice', 'OverallQual', '1stFlrSF', 'TotRmsAbvGrd', 'YearBuilt', 'LotFrontage'])\n",
    "dataset"
   ]
  },
  {
   "cell_type": "markdown",
   "metadata": {},
   "source": [
    "## Generación del modelo por gradientes"
   ]
  },
  {
   "cell_type": "code",
   "execution_count": 5,
   "metadata": {},
   "outputs": [],
   "source": [
    "# Variables X y Y para Prueba de la función\n",
    "x = dataset['OverallQual'].values.reshape(-1, 1)\n",
    "y = dataset['SalePrice'].values.reshape(-1, 1)"
   ]
  },
  {
   "cell_type": "markdown",
   "metadata": {},
   "source": [
    "### Creación de la función"
   ]
  },
  {
   "cell_type": "code",
   "execution_count": 84,
   "metadata": {},
   "outputs": [
    {
     "name": "stdout",
     "output_type": "stream",
     "text": [
      "------------------------\n",
      "iteracion 10000\n",
      "error 2516321845742046.0\n",
      "modelo b0: -95352.41738782312, b1: 45302.51926251762\n",
      "------------------------\n",
      "iteracion 20000\n",
      "error 2516283855938768.0\n",
      "modelo b0: -96198.852958407, b1: 45434.674301859784\n",
      "------------------------\n",
      "iteracion 30000\n",
      "error 2516283853216330.5\n",
      "modelo b0: -96206.01833936665, b1: 45435.79304170902\n",
      "------------------------\n",
      "iteracion 40000\n",
      "error 2516283853216135.0\n",
      "modelo b0: -96206.07899688862, b1: 45435.802512243434\n",
      "------------------------\n",
      "iteracion 50000\n",
      "error 2516283853216135.0\n",
      "modelo b0: -96206.07951037606, b1: 45435.80259241487\n"
     ]
    }
   ],
   "source": [
    "#parametros de la función\n",
    "epoch = 50000\n",
    "imprimir_error_cada = 10000\n",
    "learning_rate = 0.01\n",
    "\n",
    "#parametros internos\n",
    "b0 = 0\n",
    "b1 = 0\n",
    "betas = np.array([b1,b0]) \n",
    "n = len(x)\n",
    "\n",
    "#arrays iniciales\n",
    "errorArray = np.array([])\n",
    "betasArray = ([betas])\n",
    "\n",
    "vect1 = np.ones_like(x)\n",
    "matriz = np.hstack([x, vect1])\n",
    "\n",
    "for i in range(epoch):\n",
    "    yhat = np.dot(matriz, betas).reshape(-1,1)\n",
    "    \n",
    "    error = 1/2*n*np.sum(np.power(y - yhat, 2))\n",
    "    errorArray = np.append(errorArray, error)\n",
    "    \n",
    "    grads = np.sum((yhat-y)*matriz,axis=0)*1/n\n",
    "    \n",
    "    betas = betas - learning_rate*grads\n",
    "    betasArray = np.vstack([betasArray, betas1])\n",
    "    \n",
    "    if (i+1) % imprimir_error_cada == 0:\n",
    "        print('------------------------')\n",
    "        print('iteracion {}'.format(i+1))\n",
    "        print('error {}'.format(error))\n",
    "        print('modelo b0: {}, b1: {}'.format(betas[1], betas[0]))\n",
    "    else:\n",
    "        pass"
   ]
  },
  {
   "cell_type": "markdown",
   "metadata": {},
   "source": [
    "## Funcion para graficar error"
   ]
  },
  {
   "cell_type": "code",
   "execution_count": null,
   "metadata": {},
   "outputs": [],
   "source": []
  },
  {
   "cell_type": "code",
   "execution_count": null,
   "metadata": {},
   "outputs": [],
   "source": []
  }
 ],
 "metadata": {
  "kernelspec": {
   "display_name": "Python 3",
   "language": "python",
   "name": "python3"
  },
  "language_info": {
   "codemirror_mode": {
    "name": "ipython",
    "version": 3
   },
   "file_extension": ".py",
   "mimetype": "text/x-python",
   "name": "python",
   "nbconvert_exporter": "python",
   "pygments_lexer": "ipython3",
   "version": "3.8.5"
  }
 },
 "nbformat": 4,
 "nbformat_minor": 4
}
