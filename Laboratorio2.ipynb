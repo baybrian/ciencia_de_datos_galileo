{
 "cells": [
  {
   "cell_type": "markdown",
   "metadata": {},
   "source": [
    "# GIT Version Control System"
   ]
  },
  {
   "cell_type": "markdown",
   "metadata": {},
   "source": [
    "#### Hugo Brian Bay Rojas\n",
    "#### Carnet 20002544"
   ]
  },
  {
   "cell_type": "markdown",
   "metadata": {},
   "source": [
    "## Introducción"
   ]
  },
  {
   "cell_type": "markdown",
   "metadata": {},
   "source": [
    "Los sistemas de control de versiones son herramientas que sirven para llevar un seguimiento de las distintas versiones de archivos que se crean con un mismo origen.  Este tipo de herramientas son muy útiles en situaciones donde se manejan cambios a un código fuente y también en donde hay varias personas que necesitan trabajar al mismo tiempo en un mismo archivo y hacer cambios en paralelo.\n",
    "\n",
    "Uno de estos sistemas o herramientas es GIT.  Este sistema permite manejar conjuntos de archivos e ir creando versiones de los mismos con los cambios que se le vayan haciendo e irlos subiendo a un repositorio.  Este sistema va llevando el control de las distintas versiones, como cuál va después de cuál, el momento en el que fue modificado, cuáles fueron las modificaciones o cuáles son las diferencias entre una versión y otra y también quién o quienes lo han modificado."
   ]
  },
  {
   "cell_type": "markdown",
   "metadata": {},
   "source": [
    "## ¿Cómo funciona GIT internamente?"
   ]
  },
  {
   "cell_type": "markdown",
   "metadata": {},
   "source": [
    "En términos simples GIT funciona con una estructura similar a la de los directorios del sistema operativo, que tiene carpetas y dentro de estas puede tener más carpetas o archivos.  GIT va asignando referencias a cada uno de estos objetos para poder identificarlos.  Cada vez que uno de estos objetos cambia GIT va llevando el control de los cambios y conforme se le va pidiendo va creando más capturas de las nuevas versiones y relacionándolas entre ellas como una línea de tiempo.\n",
    "\n",
    "GIT tiene su propia terminología, por lo que es importante conocer los siguientes elementos:\n",
    "\n",
    "1. **Tree** Es como una carpeta que puede contener más *Trees* o puede contener archivos\n",
    "2. **Blob** Es el nombre que le da GIT a los archivos\n",
    "3. **Commit** Es una captura o *snapshot* que es el *tree* más alto en la jerarquía de archivos que tiene GIT y es el que almacena una versión de los documentos del repositorio.  Es como si se hiciera una copia de todas las carpetas y se les fuera asignando una fecha para llevar la secuencia de la versión\n",
    "\n",
    "Cada uno de estos elementos en GIT tiene una referencia que la herramienta le va asignando con la cual puede identificarlo y llamarlo cada vez que se necesita."
   ]
  },
  {
   "cell_type": "markdown",
   "metadata": {},
   "source": [
    "### Snapshots o Capturas"
   ]
  },
  {
   "cell_type": "markdown",
   "metadata": {},
   "source": [
    "GIT lleva una secuencia de las versiones de cada *Snapshot* que realiza, pero no es una secuencia lineal como una línea de tiempo, ya que a veces se pueden crear dos o más distintas versiones en paralelo de una misma versión anterior.  Por ejemplo, cuando dos personas están trabajando en un mísmo archivo de código fuente al mismo tiempo, pero tal vez están viendo distintos aspectos del mismo.  En tal caso se pueden crear dos distintas versiones en las cuales se trabaje por separado cada aspecto y después GIT es capaz de unificar ambas versiones, a lo cual se le llama **Merge**.\n",
    "\n",
    "Por lo anterior, es que en GIT un *commit* está referenciado hacia atrás a un **Set de padres** o *parents* ya que puede ser que una versión o un *snapshot* provenga de la unión de dos *snapshots* diferentes."
   ]
  },
  {
   "cell_type": "markdown",
   "metadata": {},
   "source": [
    "### Referencias y Direcciones"
   ]
  },
  {
   "cell_type": "markdown",
   "metadata": {},
   "source": [
    "Para encontrar los objetos (*blobs, trees, commits*) GIT utiliza un tipo de identificadores llamados **SHA-1 hash**, esto es una cadena de strings de 40 caracteres hexadecimales, con los cuales se puede hacer referencia a dichos objetos.  Cuando se tiene un *tree* que contiene objetos dentro, no es que realmente los contenga guardados como tal, sino que solo contiene las referencias a los *SHA-1* de dichos objetos.\n",
    "\n",
    "Por otro lado, GIT tiene también un sistema de referencias en donde tiene mapeados los *SHA-1* de cada objeto hacia un nombre que es entendible o identificable para el humano, haciendo de esta forma más fácil la identificación de los archivos para los usuarios.\n",
    "\n",
    "Es importante mencionar que los objetos en GIT son inmutables, es decir que no pueden cambiarse, sino solo crearse nuevas versiones de los mismos.  En cambio por otro lado las referencias a estos objetos sí pueden modificarse con el fin de ir identificando las distintas versiones de los mismos."
   ]
  },
  {
   "cell_type": "markdown",
   "metadata": {},
   "source": [
    "## Staging Area"
   ]
  },
  {
   "cell_type": "markdown",
   "metadata": {},
   "source": [
    "El Staging area es un espacio en el repositorio de GIT donde se almacenan los objetos en una fase previa a subirlos como tal al repositorio como un nuevo *snapshot*.  En esta área se puede revisar los cambios realizados y definir lo que sí se necesita subir a la nueva versión y lo que no debería tomarse en cuenta.  Al realizar estas acomodaciones, es posible después utilizar el comando *commit* para crear la nueva versión o captura e incluir los cambios requeridos.\n",
    "\n",
    "El **Staging Area** es como un paso previo en el que podemos decidir qué enviar y qué no enviar a la cadena de versiones o *commits* que se va realizando."
   ]
  },
  {
   "cell_type": "markdown",
   "metadata": {},
   "source": [
    "## Trabajando con GIT"
   ]
  },
  {
   "cell_type": "markdown",
   "metadata": {},
   "source": [
    "### Comandos"
   ]
  },
  {
   "cell_type": "markdown",
   "metadata": {},
   "source": [
    "En primer lugar, tenemos el comando *help* que sirve para obtener ayuda con algún comando en particular de GIT del cual necesitemos mayor información:"
   ]
  },
  {
   "cell_type": "code",
   "execution_count": 2,
   "metadata": {},
   "outputs": [
    {
     "data": {
      "text/plain": [
       "[]"
      ]
     },
     "execution_count": 2,
     "metadata": {},
     "output_type": "execute_result"
    }
   ],
   "source": [
    "%system git help add"
   ]
  },
  {
   "cell_type": "markdown",
   "metadata": {},
   "source": [
    "En este caso, al ejecutar el comando de arriba, abrió el navegados y mostró el archivo de ayuda del comando que solicitamos:"
   ]
  },
  {
   "cell_type": "markdown",
   "metadata": {},
   "source": [
    "![alt text](captura_help.png \"Resultado del comando help\")"
   ]
  },
  {
   "cell_type": "markdown",
   "metadata": {},
   "source": [
    "El comando *git init* se utiliza para crear un nuevo repositorio vacio que se guardará en una carpeta llamada **.git**"
   ]
  },
  {
   "cell_type": "code",
   "execution_count": 31,
   "metadata": {},
   "outputs": [
    {
     "data": {
      "text/plain": [
       "[]"
      ]
     },
     "execution_count": 31,
     "metadata": {},
     "output_type": "execute_result"
    }
   ],
   "source": [
    "%system cd lab2git"
   ]
  },
  {
   "cell_type": "code",
   "execution_count": 39,
   "metadata": {},
   "outputs": [
    {
     "data": {
      "text/plain": [
       "['Initialized empty Git repository in C:/Users/Brian/Documents/Galileo/14-Ciencia de datos en Python/Tareas/HT2/.git/']"
      ]
     },
     "execution_count": 39,
     "metadata": {},
     "output_type": "execute_result"
    }
   ],
   "source": [
    "%system git init"
   ]
  },
  {
   "cell_type": "markdown",
   "metadata": {},
   "source": [
    "Como se puede ver se creó la carpeta, la cual está oculta, pero a continuación con el comando *-a* se pueden ver las subcarpetas"
   ]
  },
  {
   "cell_type": "code",
   "execution_count": 40,
   "metadata": {},
   "outputs": [
    {
     "data": {
      "text/plain": [
       "[' El volumen de la unidad C no tiene etiqueta.',\n",
       " ' El número de serie del volumen es: 385C-801E',\n",
       " '',\n",
       " ' Directorio de C:\\\\Users\\\\Brian\\\\Documents\\\\Galileo\\\\14-Ciencia de datos en Python\\\\Tareas\\\\HT2\\\\.git',\n",
       " '',\n",
       " '21/02/2021  10:52 p. m.               130 config',\n",
       " '21/02/2021  10:52 p. m.                73 description',\n",
       " '21/02/2021  10:52 p. m.                23 HEAD',\n",
       " '21/02/2021  10:52 p. m.    <DIR>          hooks',\n",
       " '21/02/2021  10:52 p. m.    <DIR>          info',\n",
       " '21/02/2021  10:52 p. m.    <DIR>          objects',\n",
       " '21/02/2021  10:52 p. m.    <DIR>          refs',\n",
       " '               3 archivos            226 bytes',\n",
       " '',\n",
       " ' Directorio de C:\\\\Users\\\\Brian\\\\Documents\\\\Galileo\\\\14-Ciencia de datos en Python\\\\Tareas\\\\HT2',\n",
       " '',\n",
       " 'No se encuentra el archivo']"
      ]
     },
     "execution_count": 40,
     "metadata": {},
     "output_type": "execute_result"
    }
   ],
   "source": [
    "%system dir .git -a"
   ]
  },
  {
   "cell_type": "markdown",
   "metadata": {},
   "source": [
    "El comando *git status* nos muestra el estatus de los archivos que existen en el directorio en donde nos encontramos y nos indica que no hay ningún *commit* hecho aún, además nos muestra los archivos disponibles para subir al repositorio."
   ]
  },
  {
   "cell_type": "code",
   "execution_count": 41,
   "metadata": {},
   "outputs": [
    {
     "data": {
      "text/plain": [
       "['On branch master',\n",
       " '',\n",
       " 'No commits yet',\n",
       " '',\n",
       " 'Untracked files:',\n",
       " '  (use \"git add <file>...\" to include in what will be committed)',\n",
       " '\\t.ipynb_checkpoints/',\n",
       " '\\tJupyter-Notebook-Markdown-Cheatsheet2.pdf',\n",
       " '\\tLaboratorio2.ipynb',\n",
       " '\\tLaboratorio_2.pdf',\n",
       " '\\tcaptura_help.PNG',\n",
       " '\\tlab2git/',\n",
       " '',\n",
       " 'nothing added to commit but untracked files present (use \"git add\" to track)']"
      ]
     },
     "execution_count": 41,
     "metadata": {},
     "output_type": "execute_result"
    }
   ],
   "source": [
    "%system git status"
   ]
  },
  {
   "cell_type": "markdown",
   "metadata": {},
   "source": [
    "Para ejemplificar la subida de archivos al stage y luego al repositorio, creando las versiones se crea a continuación un archiov txt de ejemplo:"
   ]
  },
  {
   "cell_type": "code",
   "execution_count": 42,
   "metadata": {},
   "outputs": [
    {
     "data": {
      "text/plain": [
       "[]"
      ]
     },
     "execution_count": 42,
     "metadata": {},
     "output_type": "execute_result"
    }
   ],
   "source": [
    "%system echo \"Mi ejemplo de GIT\" > ejemplo.txt"
   ]
  },
  {
   "cell_type": "markdown",
   "metadata": {},
   "source": [
    "El comando **git add** sirve para agregar archivos al *Stage area*"
   ]
  },
  {
   "cell_type": "code",
   "execution_count": 44,
   "metadata": {},
   "outputs": [
    {
     "data": {
      "text/plain": [
       "[]"
      ]
     },
     "execution_count": 44,
     "metadata": {},
     "output_type": "execute_result"
    }
   ],
   "source": [
    "%system git add ejemplo.txt"
   ]
  },
  {
   "cell_type": "markdown",
   "metadata": {},
   "source": [
    "Si corremos de nuevo el status, ahora GIT nos indica que hay un archivo o un cambio para ser enviado al repositorio e indica que es un archivo nuevo: **ejemplo.txt**"
   ]
  },
  {
   "cell_type": "code",
   "execution_count": 45,
   "metadata": {},
   "outputs": [
    {
     "data": {
      "text/plain": [
       "['On branch master',\n",
       " '',\n",
       " 'No commits yet',\n",
       " '',\n",
       " 'Changes to be committed:',\n",
       " '  (use \"git rm --cached <file>...\" to unstage)',\n",
       " '\\tnew file:   ejemplo.txt',\n",
       " '',\n",
       " 'Untracked files:',\n",
       " '  (use \"git add <file>...\" to include in what will be committed)',\n",
       " '\\t.ipynb_checkpoints/',\n",
       " '\\tJupyter-Notebook-Markdown-Cheatsheet2.pdf',\n",
       " '\\tLaboratorio2.ipynb',\n",
       " '\\tLaboratorio_2.pdf',\n",
       " '\\tcaptura_help.PNG',\n",
       " '']"
      ]
     },
     "execution_count": 45,
     "metadata": {},
     "output_type": "execute_result"
    }
   ],
   "source": [
    "%system git status"
   ]
  },
  {
   "cell_type": "markdown",
   "metadata": {},
   "source": [
    "Luego de que este archivo está en el stage area, se utiliza el comando **git commit** para crear el nuevo *commit* con la primera versión de este archivo.  A continuación se abre una ventana que pide ingresar un *commit message* que es un mensaje que nos puede servir para dar algún comentario sobre la versión que se está agregando."
   ]
  },
  {
   "cell_type": "markdown",
   "metadata": {},
   "source": [
    "![alt text](git_commit.png \"Title\")"
   ]
  },
  {
   "cell_type": "markdown",
   "metadata": {},
   "source": [
    "De esta forma se van creando las versiones de los documentos y se va dando el seguimiento.  Cuando se modifica un archivo ya existente en el repositorio se debe repetir el paso de *git add*, el comando **git diff** nos ayudará a reconocer las diferencias entre la versión anterior y la actual y revisar los cambios.  Luego se realiza nuevamente el *git commit* para crear un nuevo *commit* con una nueva versión del archivo.\n",
    "\n",
    "Otros comandos importantes son:\n",
    "\n",
    "* **git log** Se utiliza para obtener de forma gráfica un historial de las distintas versiones, incluyendo si se han creado versiones paralelas o *branches* así como uniones entre versiones distintas.\n",
    "* **git checkout** Sirve para moverse entre versiones, hay un punto de referencia llamado *HEAD* que indica en qué versión estamos parados en el momento, con este comando el *HEAD* se mueve de una versión a otra usando ya sea el *hash*, el nombre u otra referencia a las versiones\n",
    "* **git branch** sirve para crear dividir un *commit* en dos versiones paralelas que se puedan trabajar al mismo tiempo\n",
    "* **git checkout -b nombre** sirve para moverse entre branches\n",
    "* **git merge** se utiliza para unir dos versiones paralelas o branches en una sola"
   ]
  },
  {
   "cell_type": "markdown",
   "metadata": {},
   "source": [
    "## Conclusiones"
   ]
  },
  {
   "cell_type": "markdown",
   "metadata": {},
   "source": [
    "GIT tiene muchísimas herramientas para dar un seguimiento bastante seguro y fácil a nuestro trabajo, cuando realizamos muchos cambios y queremos comparar entre versiones anteriores o probar algunos cambios sin alterar nuestra versión original, insertar algunos de esos cambios a nuestra versión final.  Todo este complejo tema de manejo de versiones que se nos complicaría haciendolo de forma manual, esta herramienta lo facilita grandemente.  Además de que se puede utilizar de forma muy fácil para trabajar en remoto con equipos de trabajo haciendo copias de los archivos y transfiriendo las actualizaciones de forma segura y ordenada."
   ]
  },
  {
   "cell_type": "code",
   "execution_count": null,
   "metadata": {},
   "outputs": [],
   "source": []
  }
 ],
 "metadata": {
  "kernelspec": {
   "display_name": "Python 3",
   "language": "python",
   "name": "python3"
  },
  "language_info": {
   "codemirror_mode": {
    "name": "ipython",
    "version": 3
   },
   "file_extension": ".py",
   "mimetype": "text/x-python",
   "name": "python",
   "nbconvert_exporter": "python",
   "pygments_lexer": "ipython3",
   "version": "3.8.5"
  }
 },
 "nbformat": 4,
 "nbformat_minor": 4
}
